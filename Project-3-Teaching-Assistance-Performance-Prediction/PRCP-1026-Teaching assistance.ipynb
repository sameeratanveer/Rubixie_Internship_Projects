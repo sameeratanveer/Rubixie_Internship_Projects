{
 "cells": [
  {
   "cell_type": "markdown",
   "id": "2b314d2e",
   "metadata": {},
   "source": [
    "Project-3: PRCP-1026- Teaching Assistance"
   ]
  },
  {
   "cell_type": "code",
   "execution_count": 3,
   "id": "b88d2624-3ef4-4eed-ba72-2e6ce82e4491",
   "metadata": {},
   "outputs": [],
   "source": [
    "# Importing all the dependencies: \n",
    "import numpy as np \n",
    "import pandas as pd \n",
    "import matplotlib.pyplot as plt \n",
    "import seaborn as sns "
   ]
  },
  {
   "cell_type": "markdown",
   "id": "ca6fa5a8",
   "metadata": {},
   "source": [
    "## Import the given data"
   ]
  },
  {
   "cell_type": "code",
   "execution_count": 4,
   "id": "449740cd-38c4-4dea-a397-bb855ebf9bdb",
   "metadata": {},
   "outputs": [],
   "source": [
    "df = pd.read_csv(\"tae.csv\", header=None)"
   ]
  },
  {
   "cell_type": "markdown",
   "id": "071c21ea",
   "metadata": {},
   "source": [
    "## Pre-processing the data"
   ]
  },
  {
   "cell_type": "code",
   "execution_count": 5,
   "id": "a570d6e1-ac90-486f-88ac-6bc9de44768d",
   "metadata": {},
   "outputs": [
    {
     "data": {
      "text/html": [
       "<div>\n",
       "<style scoped>\n",
       "    .dataframe tbody tr th:only-of-type {\n",
       "        vertical-align: middle;\n",
       "    }\n",
       "\n",
       "    .dataframe tbody tr th {\n",
       "        vertical-align: top;\n",
       "    }\n",
       "\n",
       "    .dataframe thead th {\n",
       "        text-align: right;\n",
       "    }\n",
       "</style>\n",
       "<table border=\"1\" class=\"dataframe\">\n",
       "  <thead>\n",
       "    <tr style=\"text-align: right;\">\n",
       "      <th></th>\n",
       "      <th>0</th>\n",
       "      <th>1</th>\n",
       "      <th>2</th>\n",
       "      <th>3</th>\n",
       "      <th>4</th>\n",
       "      <th>5</th>\n",
       "    </tr>\n",
       "  </thead>\n",
       "  <tbody>\n",
       "    <tr>\n",
       "      <th>0</th>\n",
       "      <td>1</td>\n",
       "      <td>23</td>\n",
       "      <td>3</td>\n",
       "      <td>1</td>\n",
       "      <td>19</td>\n",
       "      <td>3</td>\n",
       "    </tr>\n",
       "    <tr>\n",
       "      <th>1</th>\n",
       "      <td>2</td>\n",
       "      <td>15</td>\n",
       "      <td>3</td>\n",
       "      <td>1</td>\n",
       "      <td>17</td>\n",
       "      <td>3</td>\n",
       "    </tr>\n",
       "    <tr>\n",
       "      <th>2</th>\n",
       "      <td>1</td>\n",
       "      <td>23</td>\n",
       "      <td>3</td>\n",
       "      <td>2</td>\n",
       "      <td>49</td>\n",
       "      <td>3</td>\n",
       "    </tr>\n",
       "    <tr>\n",
       "      <th>3</th>\n",
       "      <td>1</td>\n",
       "      <td>5</td>\n",
       "      <td>2</td>\n",
       "      <td>2</td>\n",
       "      <td>33</td>\n",
       "      <td>3</td>\n",
       "    </tr>\n",
       "    <tr>\n",
       "      <th>4</th>\n",
       "      <td>2</td>\n",
       "      <td>7</td>\n",
       "      <td>11</td>\n",
       "      <td>2</td>\n",
       "      <td>55</td>\n",
       "      <td>3</td>\n",
       "    </tr>\n",
       "  </tbody>\n",
       "</table>\n",
       "</div>"
      ],
      "text/plain": [
       "   0   1   2  3   4  5\n",
       "0  1  23   3  1  19  3\n",
       "1  2  15   3  1  17  3\n",
       "2  1  23   3  2  49  3\n",
       "3  1   5   2  2  33  3\n",
       "4  2   7  11  2  55  3"
      ]
     },
     "execution_count": 5,
     "metadata": {},
     "output_type": "execute_result"
    }
   ],
   "source": [
    "df.head()"
   ]
  },
  {
   "cell_type": "markdown",
   "id": "719db87c",
   "metadata": {},
   "source": [
    "## Adding column names to the given data"
   ]
  },
  {
   "cell_type": "code",
   "execution_count": 6,
   "id": "44e8e84f-6308-4518-b73d-fcddcee146b0",
   "metadata": {},
   "outputs": [],
   "source": [
    "columns = ['isNativeEnglishSpeaker', 'course_instructor', 'course', 'summer_regular', 'class_size', 'performance']\n",
    "df.columns = columns"
   ]
  },
  {
   "cell_type": "code",
   "execution_count": 7,
   "id": "4065f0a1-8f2f-482b-81b0-ac9d741b0a8b",
   "metadata": {},
   "outputs": [
    {
     "data": {
      "text/html": [
       "<div>\n",
       "<style scoped>\n",
       "    .dataframe tbody tr th:only-of-type {\n",
       "        vertical-align: middle;\n",
       "    }\n",
       "\n",
       "    .dataframe tbody tr th {\n",
       "        vertical-align: top;\n",
       "    }\n",
       "\n",
       "    .dataframe thead th {\n",
       "        text-align: right;\n",
       "    }\n",
       "</style>\n",
       "<table border=\"1\" class=\"dataframe\">\n",
       "  <thead>\n",
       "    <tr style=\"text-align: right;\">\n",
       "      <th></th>\n",
       "      <th>isNativeEnglishSpeaker</th>\n",
       "      <th>course_instructor</th>\n",
       "      <th>course</th>\n",
       "      <th>summer_regular</th>\n",
       "      <th>class_size</th>\n",
       "      <th>performance</th>\n",
       "    </tr>\n",
       "  </thead>\n",
       "  <tbody>\n",
       "    <tr>\n",
       "      <th>0</th>\n",
       "      <td>1</td>\n",
       "      <td>23</td>\n",
       "      <td>3</td>\n",
       "      <td>1</td>\n",
       "      <td>19</td>\n",
       "      <td>3</td>\n",
       "    </tr>\n",
       "    <tr>\n",
       "      <th>1</th>\n",
       "      <td>2</td>\n",
       "      <td>15</td>\n",
       "      <td>3</td>\n",
       "      <td>1</td>\n",
       "      <td>17</td>\n",
       "      <td>3</td>\n",
       "    </tr>\n",
       "    <tr>\n",
       "      <th>2</th>\n",
       "      <td>1</td>\n",
       "      <td>23</td>\n",
       "      <td>3</td>\n",
       "      <td>2</td>\n",
       "      <td>49</td>\n",
       "      <td>3</td>\n",
       "    </tr>\n",
       "    <tr>\n",
       "      <th>3</th>\n",
       "      <td>1</td>\n",
       "      <td>5</td>\n",
       "      <td>2</td>\n",
       "      <td>2</td>\n",
       "      <td>33</td>\n",
       "      <td>3</td>\n",
       "    </tr>\n",
       "    <tr>\n",
       "      <th>4</th>\n",
       "      <td>2</td>\n",
       "      <td>7</td>\n",
       "      <td>11</td>\n",
       "      <td>2</td>\n",
       "      <td>55</td>\n",
       "      <td>3</td>\n",
       "    </tr>\n",
       "  </tbody>\n",
       "</table>\n",
       "</div>"
      ],
      "text/plain": [
       "   isNativeEnglishSpeaker  course_instructor  course  summer_regular  \\\n",
       "0                       1                 23       3               1   \n",
       "1                       2                 15       3               1   \n",
       "2                       1                 23       3               2   \n",
       "3                       1                  5       2               2   \n",
       "4                       2                  7      11               2   \n",
       "\n",
       "   class_size  performance  \n",
       "0          19            3  \n",
       "1          17            3  \n",
       "2          49            3  \n",
       "3          33            3  \n",
       "4          55            3  "
      ]
     },
     "execution_count": 7,
     "metadata": {},
     "output_type": "execute_result"
    }
   ],
   "source": [
    "df.head()"
   ]
  },
  {
   "cell_type": "markdown",
   "id": "fc483eaa",
   "metadata": {},
   "source": [
    "## Check for the null values"
   ]
  },
  {
   "cell_type": "code",
   "execution_count": 8,
   "id": "8060f74b-c7ef-4701-aa89-d30ff90b10b7",
   "metadata": {},
   "outputs": [
    {
     "data": {
      "text/plain": [
       "isNativeEnglishSpeaker    0\n",
       "course_instructor         0\n",
       "course                    0\n",
       "summer_regular            0\n",
       "class_size                0\n",
       "performance               0\n",
       "dtype: int64"
      ]
     },
     "execution_count": 8,
     "metadata": {},
     "output_type": "execute_result"
    }
   ],
   "source": [
    "df.isnull().sum()"
   ]
  },
  {
   "cell_type": "markdown",
   "id": "770da329",
   "metadata": {},
   "source": [
    "# Check for the duplicates"
   ]
  },
  {
   "cell_type": "code",
   "execution_count": 9,
   "id": "8f20e818-9469-4a6f-be57-2753104bbdda",
   "metadata": {},
   "outputs": [
    {
     "data": {
      "text/plain": [
       "41"
      ]
     },
     "execution_count": 9,
     "metadata": {},
     "output_type": "execute_result"
    }
   ],
   "source": [
    "df.duplicated().sum()"
   ]
  },
  {
   "cell_type": "code",
   "execution_count": 10,
   "id": "2d2dbee5-9773-46ed-a061-cd2776a1dd5b",
   "metadata": {},
   "outputs": [
    {
     "data": {
      "text/plain": [
       "0      False\n",
       "1      False\n",
       "2      False\n",
       "3      False\n",
       "4      False\n",
       "       ...  \n",
       "146    False\n",
       "147    False\n",
       "148    False\n",
       "149    False\n",
       "150    False\n",
       "Length: 151, dtype: bool"
      ]
     },
     "execution_count": 10,
     "metadata": {},
     "output_type": "execute_result"
    }
   ],
   "source": [
    "df.duplicated()"
   ]
  },
  {
   "cell_type": "code",
   "execution_count": 11,
   "id": "5d58cb22-e1d9-4601-b689-b55df9be96b0",
   "metadata": {},
   "outputs": [
    {
     "data": {
      "text/html": [
       "<div>\n",
       "<style scoped>\n",
       "    .dataframe tbody tr th:only-of-type {\n",
       "        vertical-align: middle;\n",
       "    }\n",
       "\n",
       "    .dataframe tbody tr th {\n",
       "        vertical-align: top;\n",
       "    }\n",
       "\n",
       "    .dataframe thead th {\n",
       "        text-align: right;\n",
       "    }\n",
       "</style>\n",
       "<table border=\"1\" class=\"dataframe\">\n",
       "  <thead>\n",
       "    <tr style=\"text-align: right;\">\n",
       "      <th></th>\n",
       "      <th>isNativeEnglishSpeaker</th>\n",
       "      <th>course_instructor</th>\n",
       "      <th>course</th>\n",
       "      <th>summer_regular</th>\n",
       "      <th>class_size</th>\n",
       "      <th>performance</th>\n",
       "    </tr>\n",
       "  </thead>\n",
       "  <tbody>\n",
       "    <tr>\n",
       "      <th>39</th>\n",
       "      <td>1</td>\n",
       "      <td>23</td>\n",
       "      <td>3</td>\n",
       "      <td>1</td>\n",
       "      <td>19</td>\n",
       "      <td>3</td>\n",
       "    </tr>\n",
       "    <tr>\n",
       "      <th>40</th>\n",
       "      <td>2</td>\n",
       "      <td>15</td>\n",
       "      <td>3</td>\n",
       "      <td>1</td>\n",
       "      <td>17</td>\n",
       "      <td>3</td>\n",
       "    </tr>\n",
       "    <tr>\n",
       "      <th>41</th>\n",
       "      <td>1</td>\n",
       "      <td>23</td>\n",
       "      <td>3</td>\n",
       "      <td>2</td>\n",
       "      <td>49</td>\n",
       "      <td>3</td>\n",
       "    </tr>\n",
       "    <tr>\n",
       "      <th>42</th>\n",
       "      <td>1</td>\n",
       "      <td>5</td>\n",
       "      <td>2</td>\n",
       "      <td>2</td>\n",
       "      <td>33</td>\n",
       "      <td>3</td>\n",
       "    </tr>\n",
       "    <tr>\n",
       "      <th>43</th>\n",
       "      <td>2</td>\n",
       "      <td>7</td>\n",
       "      <td>11</td>\n",
       "      <td>2</td>\n",
       "      <td>55</td>\n",
       "      <td>3</td>\n",
       "    </tr>\n",
       "    <tr>\n",
       "      <th>44</th>\n",
       "      <td>2</td>\n",
       "      <td>23</td>\n",
       "      <td>3</td>\n",
       "      <td>1</td>\n",
       "      <td>20</td>\n",
       "      <td>3</td>\n",
       "    </tr>\n",
       "    <tr>\n",
       "      <th>45</th>\n",
       "      <td>2</td>\n",
       "      <td>9</td>\n",
       "      <td>5</td>\n",
       "      <td>2</td>\n",
       "      <td>19</td>\n",
       "      <td>3</td>\n",
       "    </tr>\n",
       "    <tr>\n",
       "      <th>46</th>\n",
       "      <td>2</td>\n",
       "      <td>10</td>\n",
       "      <td>3</td>\n",
       "      <td>2</td>\n",
       "      <td>27</td>\n",
       "      <td>3</td>\n",
       "    </tr>\n",
       "    <tr>\n",
       "      <th>48</th>\n",
       "      <td>2</td>\n",
       "      <td>15</td>\n",
       "      <td>3</td>\n",
       "      <td>1</td>\n",
       "      <td>20</td>\n",
       "      <td>3</td>\n",
       "    </tr>\n",
       "    <tr>\n",
       "      <th>49</th>\n",
       "      <td>2</td>\n",
       "      <td>10</td>\n",
       "      <td>22</td>\n",
       "      <td>2</td>\n",
       "      <td>9</td>\n",
       "      <td>3</td>\n",
       "    </tr>\n",
       "    <tr>\n",
       "      <th>50</th>\n",
       "      <td>2</td>\n",
       "      <td>13</td>\n",
       "      <td>1</td>\n",
       "      <td>2</td>\n",
       "      <td>30</td>\n",
       "      <td>3</td>\n",
       "    </tr>\n",
       "    <tr>\n",
       "      <th>51</th>\n",
       "      <td>2</td>\n",
       "      <td>18</td>\n",
       "      <td>21</td>\n",
       "      <td>2</td>\n",
       "      <td>29</td>\n",
       "      <td>3</td>\n",
       "    </tr>\n",
       "    <tr>\n",
       "      <th>52</th>\n",
       "      <td>2</td>\n",
       "      <td>6</td>\n",
       "      <td>17</td>\n",
       "      <td>2</td>\n",
       "      <td>39</td>\n",
       "      <td>3</td>\n",
       "    </tr>\n",
       "    <tr>\n",
       "      <th>53</th>\n",
       "      <td>2</td>\n",
       "      <td>6</td>\n",
       "      <td>17</td>\n",
       "      <td>2</td>\n",
       "      <td>42</td>\n",
       "      <td>2</td>\n",
       "    </tr>\n",
       "    <tr>\n",
       "      <th>54</th>\n",
       "      <td>2</td>\n",
       "      <td>6</td>\n",
       "      <td>17</td>\n",
       "      <td>2</td>\n",
       "      <td>43</td>\n",
       "      <td>2</td>\n",
       "    </tr>\n",
       "    <tr>\n",
       "      <th>55</th>\n",
       "      <td>2</td>\n",
       "      <td>7</td>\n",
       "      <td>11</td>\n",
       "      <td>2</td>\n",
       "      <td>10</td>\n",
       "      <td>2</td>\n",
       "    </tr>\n",
       "    <tr>\n",
       "      <th>56</th>\n",
       "      <td>2</td>\n",
       "      <td>22</td>\n",
       "      <td>3</td>\n",
       "      <td>2</td>\n",
       "      <td>46</td>\n",
       "      <td>2</td>\n",
       "    </tr>\n",
       "    <tr>\n",
       "      <th>57</th>\n",
       "      <td>2</td>\n",
       "      <td>13</td>\n",
       "      <td>3</td>\n",
       "      <td>1</td>\n",
       "      <td>10</td>\n",
       "      <td>2</td>\n",
       "    </tr>\n",
       "    <tr>\n",
       "      <th>58</th>\n",
       "      <td>2</td>\n",
       "      <td>7</td>\n",
       "      <td>25</td>\n",
       "      <td>2</td>\n",
       "      <td>42</td>\n",
       "      <td>2</td>\n",
       "    </tr>\n",
       "    <tr>\n",
       "      <th>59</th>\n",
       "      <td>2</td>\n",
       "      <td>25</td>\n",
       "      <td>7</td>\n",
       "      <td>2</td>\n",
       "      <td>27</td>\n",
       "      <td>2</td>\n",
       "    </tr>\n",
       "    <tr>\n",
       "      <th>60</th>\n",
       "      <td>2</td>\n",
       "      <td>25</td>\n",
       "      <td>7</td>\n",
       "      <td>2</td>\n",
       "      <td>23</td>\n",
       "      <td>2</td>\n",
       "    </tr>\n",
       "    <tr>\n",
       "      <th>61</th>\n",
       "      <td>2</td>\n",
       "      <td>2</td>\n",
       "      <td>9</td>\n",
       "      <td>2</td>\n",
       "      <td>31</td>\n",
       "      <td>2</td>\n",
       "    </tr>\n",
       "    <tr>\n",
       "      <th>62</th>\n",
       "      <td>2</td>\n",
       "      <td>1</td>\n",
       "      <td>15</td>\n",
       "      <td>1</td>\n",
       "      <td>22</td>\n",
       "      <td>2</td>\n",
       "    </tr>\n",
       "    <tr>\n",
       "      <th>63</th>\n",
       "      <td>2</td>\n",
       "      <td>15</td>\n",
       "      <td>13</td>\n",
       "      <td>2</td>\n",
       "      <td>37</td>\n",
       "      <td>2</td>\n",
       "    </tr>\n",
       "    <tr>\n",
       "      <th>64</th>\n",
       "      <td>2</td>\n",
       "      <td>7</td>\n",
       "      <td>11</td>\n",
       "      <td>2</td>\n",
       "      <td>13</td>\n",
       "      <td>2</td>\n",
       "    </tr>\n",
       "    <tr>\n",
       "      <th>65</th>\n",
       "      <td>2</td>\n",
       "      <td>8</td>\n",
       "      <td>3</td>\n",
       "      <td>2</td>\n",
       "      <td>24</td>\n",
       "      <td>2</td>\n",
       "    </tr>\n",
       "    <tr>\n",
       "      <th>66</th>\n",
       "      <td>2</td>\n",
       "      <td>14</td>\n",
       "      <td>15</td>\n",
       "      <td>2</td>\n",
       "      <td>38</td>\n",
       "      <td>2</td>\n",
       "    </tr>\n",
       "    <tr>\n",
       "      <th>67</th>\n",
       "      <td>2</td>\n",
       "      <td>21</td>\n",
       "      <td>2</td>\n",
       "      <td>2</td>\n",
       "      <td>42</td>\n",
       "      <td>1</td>\n",
       "    </tr>\n",
       "    <tr>\n",
       "      <th>68</th>\n",
       "      <td>2</td>\n",
       "      <td>22</td>\n",
       "      <td>3</td>\n",
       "      <td>2</td>\n",
       "      <td>28</td>\n",
       "      <td>1</td>\n",
       "    </tr>\n",
       "    <tr>\n",
       "      <th>69</th>\n",
       "      <td>2</td>\n",
       "      <td>11</td>\n",
       "      <td>1</td>\n",
       "      <td>2</td>\n",
       "      <td>51</td>\n",
       "      <td>1</td>\n",
       "    </tr>\n",
       "    <tr>\n",
       "      <th>70</th>\n",
       "      <td>2</td>\n",
       "      <td>18</td>\n",
       "      <td>5</td>\n",
       "      <td>2</td>\n",
       "      <td>19</td>\n",
       "      <td>1</td>\n",
       "    </tr>\n",
       "    <tr>\n",
       "      <th>71</th>\n",
       "      <td>2</td>\n",
       "      <td>13</td>\n",
       "      <td>1</td>\n",
       "      <td>2</td>\n",
       "      <td>31</td>\n",
       "      <td>1</td>\n",
       "    </tr>\n",
       "    <tr>\n",
       "      <th>72</th>\n",
       "      <td>1</td>\n",
       "      <td>13</td>\n",
       "      <td>3</td>\n",
       "      <td>1</td>\n",
       "      <td>13</td>\n",
       "      <td>1</td>\n",
       "    </tr>\n",
       "    <tr>\n",
       "      <th>73</th>\n",
       "      <td>2</td>\n",
       "      <td>5</td>\n",
       "      <td>2</td>\n",
       "      <td>2</td>\n",
       "      <td>37</td>\n",
       "      <td>1</td>\n",
       "    </tr>\n",
       "    <tr>\n",
       "      <th>74</th>\n",
       "      <td>2</td>\n",
       "      <td>16</td>\n",
       "      <td>8</td>\n",
       "      <td>2</td>\n",
       "      <td>36</td>\n",
       "      <td>1</td>\n",
       "    </tr>\n",
       "    <tr>\n",
       "      <th>75</th>\n",
       "      <td>2</td>\n",
       "      <td>4</td>\n",
       "      <td>16</td>\n",
       "      <td>2</td>\n",
       "      <td>21</td>\n",
       "      <td>1</td>\n",
       "    </tr>\n",
       "    <tr>\n",
       "      <th>76</th>\n",
       "      <td>2</td>\n",
       "      <td>5</td>\n",
       "      <td>2</td>\n",
       "      <td>2</td>\n",
       "      <td>48</td>\n",
       "      <td>1</td>\n",
       "    </tr>\n",
       "    <tr>\n",
       "      <th>77</th>\n",
       "      <td>2</td>\n",
       "      <td>14</td>\n",
       "      <td>15</td>\n",
       "      <td>2</td>\n",
       "      <td>38</td>\n",
       "      <td>1</td>\n",
       "    </tr>\n",
       "    <tr>\n",
       "      <th>86</th>\n",
       "      <td>2</td>\n",
       "      <td>23</td>\n",
       "      <td>3</td>\n",
       "      <td>1</td>\n",
       "      <td>20</td>\n",
       "      <td>3</td>\n",
       "    </tr>\n",
       "    <tr>\n",
       "      <th>138</th>\n",
       "      <td>2</td>\n",
       "      <td>7</td>\n",
       "      <td>11</td>\n",
       "      <td>2</td>\n",
       "      <td>30</td>\n",
       "      <td>1</td>\n",
       "    </tr>\n",
       "    <tr>\n",
       "      <th>139</th>\n",
       "      <td>2</td>\n",
       "      <td>10</td>\n",
       "      <td>3</td>\n",
       "      <td>2</td>\n",
       "      <td>19</td>\n",
       "      <td>1</td>\n",
       "    </tr>\n",
       "  </tbody>\n",
       "</table>\n",
       "</div>"
      ],
      "text/plain": [
       "     isNativeEnglishSpeaker  course_instructor  course  summer_regular  \\\n",
       "39                        1                 23       3               1   \n",
       "40                        2                 15       3               1   \n",
       "41                        1                 23       3               2   \n",
       "42                        1                  5       2               2   \n",
       "43                        2                  7      11               2   \n",
       "44                        2                 23       3               1   \n",
       "45                        2                  9       5               2   \n",
       "46                        2                 10       3               2   \n",
       "48                        2                 15       3               1   \n",
       "49                        2                 10      22               2   \n",
       "50                        2                 13       1               2   \n",
       "51                        2                 18      21               2   \n",
       "52                        2                  6      17               2   \n",
       "53                        2                  6      17               2   \n",
       "54                        2                  6      17               2   \n",
       "55                        2                  7      11               2   \n",
       "56                        2                 22       3               2   \n",
       "57                        2                 13       3               1   \n",
       "58                        2                  7      25               2   \n",
       "59                        2                 25       7               2   \n",
       "60                        2                 25       7               2   \n",
       "61                        2                  2       9               2   \n",
       "62                        2                  1      15               1   \n",
       "63                        2                 15      13               2   \n",
       "64                        2                  7      11               2   \n",
       "65                        2                  8       3               2   \n",
       "66                        2                 14      15               2   \n",
       "67                        2                 21       2               2   \n",
       "68                        2                 22       3               2   \n",
       "69                        2                 11       1               2   \n",
       "70                        2                 18       5               2   \n",
       "71                        2                 13       1               2   \n",
       "72                        1                 13       3               1   \n",
       "73                        2                  5       2               2   \n",
       "74                        2                 16       8               2   \n",
       "75                        2                  4      16               2   \n",
       "76                        2                  5       2               2   \n",
       "77                        2                 14      15               2   \n",
       "86                        2                 23       3               1   \n",
       "138                       2                  7      11               2   \n",
       "139                       2                 10       3               2   \n",
       "\n",
       "     class_size  performance  \n",
       "39           19            3  \n",
       "40           17            3  \n",
       "41           49            3  \n",
       "42           33            3  \n",
       "43           55            3  \n",
       "44           20            3  \n",
       "45           19            3  \n",
       "46           27            3  \n",
       "48           20            3  \n",
       "49            9            3  \n",
       "50           30            3  \n",
       "51           29            3  \n",
       "52           39            3  \n",
       "53           42            2  \n",
       "54           43            2  \n",
       "55           10            2  \n",
       "56           46            2  \n",
       "57           10            2  \n",
       "58           42            2  \n",
       "59           27            2  \n",
       "60           23            2  \n",
       "61           31            2  \n",
       "62           22            2  \n",
       "63           37            2  \n",
       "64           13            2  \n",
       "65           24            2  \n",
       "66           38            2  \n",
       "67           42            1  \n",
       "68           28            1  \n",
       "69           51            1  \n",
       "70           19            1  \n",
       "71           31            1  \n",
       "72           13            1  \n",
       "73           37            1  \n",
       "74           36            1  \n",
       "75           21            1  \n",
       "76           48            1  \n",
       "77           38            1  \n",
       "86           20            3  \n",
       "138          30            1  \n",
       "139          19            1  "
      ]
     },
     "execution_count": 11,
     "metadata": {},
     "output_type": "execute_result"
    }
   ],
   "source": [
    "df[df.duplicated()]"
   ]
  },
  {
   "cell_type": "code",
   "execution_count": 12,
   "id": "09ae63aa-9db9-442c-bdc0-8017c35c4df0",
   "metadata": {},
   "outputs": [
    {
     "name": "stdout",
     "output_type": "stream",
     "text": [
      "<class 'pandas.core.frame.DataFrame'>\n",
      "RangeIndex: 151 entries, 0 to 150\n",
      "Data columns (total 6 columns):\n",
      " #   Column                  Non-Null Count  Dtype\n",
      "---  ------                  --------------  -----\n",
      " 0   isNativeEnglishSpeaker  151 non-null    int64\n",
      " 1   course_instructor       151 non-null    int64\n",
      " 2   course                  151 non-null    int64\n",
      " 3   summer_regular          151 non-null    int64\n",
      " 4   class_size              151 non-null    int64\n",
      " 5   performance             151 non-null    int64\n",
      "dtypes: int64(6)\n",
      "memory usage: 7.2 KB\n"
     ]
    }
   ],
   "source": [
    "df.info()"
   ]
  },
  {
   "cell_type": "code",
   "execution_count": 13,
   "id": "2f8c7b82-bd14-4c05-b3f1-be32c1c4d858",
   "metadata": {},
   "outputs": [
    {
     "data": {
      "text/html": [
       "<div>\n",
       "<style scoped>\n",
       "    .dataframe tbody tr th:only-of-type {\n",
       "        vertical-align: middle;\n",
       "    }\n",
       "\n",
       "    .dataframe tbody tr th {\n",
       "        vertical-align: top;\n",
       "    }\n",
       "\n",
       "    .dataframe thead th {\n",
       "        text-align: right;\n",
       "    }\n",
       "</style>\n",
       "<table border=\"1\" class=\"dataframe\">\n",
       "  <thead>\n",
       "    <tr style=\"text-align: right;\">\n",
       "      <th></th>\n",
       "      <th>isNativeEnglishSpeaker</th>\n",
       "      <th>course_instructor</th>\n",
       "      <th>course</th>\n",
       "      <th>summer_regular</th>\n",
       "      <th>class_size</th>\n",
       "      <th>performance</th>\n",
       "    </tr>\n",
       "  </thead>\n",
       "  <tbody>\n",
       "    <tr>\n",
       "      <th>count</th>\n",
       "      <td>151.000000</td>\n",
       "      <td>151.000000</td>\n",
       "      <td>151.000000</td>\n",
       "      <td>151.000000</td>\n",
       "      <td>151.000000</td>\n",
       "      <td>151.000000</td>\n",
       "    </tr>\n",
       "    <tr>\n",
       "      <th>mean</th>\n",
       "      <td>1.807947</td>\n",
       "      <td>13.642384</td>\n",
       "      <td>8.105960</td>\n",
       "      <td>1.847682</td>\n",
       "      <td>27.867550</td>\n",
       "      <td>2.019868</td>\n",
       "    </tr>\n",
       "    <tr>\n",
       "      <th>std</th>\n",
       "      <td>0.395225</td>\n",
       "      <td>6.825779</td>\n",
       "      <td>7.023914</td>\n",
       "      <td>0.360525</td>\n",
       "      <td>12.893758</td>\n",
       "      <td>0.820327</td>\n",
       "    </tr>\n",
       "    <tr>\n",
       "      <th>min</th>\n",
       "      <td>1.000000</td>\n",
       "      <td>1.000000</td>\n",
       "      <td>1.000000</td>\n",
       "      <td>1.000000</td>\n",
       "      <td>3.000000</td>\n",
       "      <td>1.000000</td>\n",
       "    </tr>\n",
       "    <tr>\n",
       "      <th>25%</th>\n",
       "      <td>2.000000</td>\n",
       "      <td>8.000000</td>\n",
       "      <td>3.000000</td>\n",
       "      <td>2.000000</td>\n",
       "      <td>19.000000</td>\n",
       "      <td>1.000000</td>\n",
       "    </tr>\n",
       "    <tr>\n",
       "      <th>50%</th>\n",
       "      <td>2.000000</td>\n",
       "      <td>13.000000</td>\n",
       "      <td>4.000000</td>\n",
       "      <td>2.000000</td>\n",
       "      <td>27.000000</td>\n",
       "      <td>2.000000</td>\n",
       "    </tr>\n",
       "    <tr>\n",
       "      <th>75%</th>\n",
       "      <td>2.000000</td>\n",
       "      <td>20.000000</td>\n",
       "      <td>15.000000</td>\n",
       "      <td>2.000000</td>\n",
       "      <td>37.000000</td>\n",
       "      <td>3.000000</td>\n",
       "    </tr>\n",
       "    <tr>\n",
       "      <th>max</th>\n",
       "      <td>2.000000</td>\n",
       "      <td>25.000000</td>\n",
       "      <td>26.000000</td>\n",
       "      <td>2.000000</td>\n",
       "      <td>66.000000</td>\n",
       "      <td>3.000000</td>\n",
       "    </tr>\n",
       "  </tbody>\n",
       "</table>\n",
       "</div>"
      ],
      "text/plain": [
       "       isNativeEnglishSpeaker  course_instructor      course  summer_regular  \\\n",
       "count              151.000000         151.000000  151.000000      151.000000   \n",
       "mean                 1.807947          13.642384    8.105960        1.847682   \n",
       "std                  0.395225           6.825779    7.023914        0.360525   \n",
       "min                  1.000000           1.000000    1.000000        1.000000   \n",
       "25%                  2.000000           8.000000    3.000000        2.000000   \n",
       "50%                  2.000000          13.000000    4.000000        2.000000   \n",
       "75%                  2.000000          20.000000   15.000000        2.000000   \n",
       "max                  2.000000          25.000000   26.000000        2.000000   \n",
       "\n",
       "       class_size  performance  \n",
       "count  151.000000   151.000000  \n",
       "mean    27.867550     2.019868  \n",
       "std     12.893758     0.820327  \n",
       "min      3.000000     1.000000  \n",
       "25%     19.000000     1.000000  \n",
       "50%     27.000000     2.000000  \n",
       "75%     37.000000     3.000000  \n",
       "max     66.000000     3.000000  "
      ]
     },
     "execution_count": 13,
     "metadata": {},
     "output_type": "execute_result"
    }
   ],
   "source": [
    "df.describe()"
   ]
  },
  {
   "cell_type": "code",
   "execution_count": 14,
   "id": "7f35b0db-15b3-43b0-9563-9a5b53f2e3b5",
   "metadata": {},
   "outputs": [],
   "source": [
    "from warnings import filterwarnings\n",
    "filterwarnings('ignore')"
   ]
  },
  {
   "cell_type": "code",
   "execution_count": 15,
   "id": "f164d7b8-b29e-4bce-9bbf-392e6d9f4a65",
   "metadata": {},
   "outputs": [],
   "source": [
    "df['isNativeEnglishSpeaker'] = df['isNativeEnglishSpeaker'].replace({2:0})"
   ]
  },
  {
   "cell_type": "code",
   "execution_count": 16,
   "id": "3ab72ee7-13fe-4400-a4ca-abdb547d5a0e",
   "metadata": {},
   "outputs": [
    {
     "data": {
      "text/html": [
       "<div>\n",
       "<style scoped>\n",
       "    .dataframe tbody tr th:only-of-type {\n",
       "        vertical-align: middle;\n",
       "    }\n",
       "\n",
       "    .dataframe tbody tr th {\n",
       "        vertical-align: top;\n",
       "    }\n",
       "\n",
       "    .dataframe thead th {\n",
       "        text-align: right;\n",
       "    }\n",
       "</style>\n",
       "<table border=\"1\" class=\"dataframe\">\n",
       "  <thead>\n",
       "    <tr style=\"text-align: right;\">\n",
       "      <th></th>\n",
       "      <th>isNativeEnglishSpeaker</th>\n",
       "      <th>course_instructor</th>\n",
       "      <th>course</th>\n",
       "      <th>summer_regular</th>\n",
       "      <th>class_size</th>\n",
       "      <th>performance</th>\n",
       "    </tr>\n",
       "  </thead>\n",
       "  <tbody>\n",
       "    <tr>\n",
       "      <th>0</th>\n",
       "      <td>1</td>\n",
       "      <td>23</td>\n",
       "      <td>3</td>\n",
       "      <td>1</td>\n",
       "      <td>19</td>\n",
       "      <td>3</td>\n",
       "    </tr>\n",
       "    <tr>\n",
       "      <th>1</th>\n",
       "      <td>0</td>\n",
       "      <td>15</td>\n",
       "      <td>3</td>\n",
       "      <td>1</td>\n",
       "      <td>17</td>\n",
       "      <td>3</td>\n",
       "    </tr>\n",
       "    <tr>\n",
       "      <th>2</th>\n",
       "      <td>1</td>\n",
       "      <td>23</td>\n",
       "      <td>3</td>\n",
       "      <td>2</td>\n",
       "      <td>49</td>\n",
       "      <td>3</td>\n",
       "    </tr>\n",
       "    <tr>\n",
       "      <th>3</th>\n",
       "      <td>1</td>\n",
       "      <td>5</td>\n",
       "      <td>2</td>\n",
       "      <td>2</td>\n",
       "      <td>33</td>\n",
       "      <td>3</td>\n",
       "    </tr>\n",
       "    <tr>\n",
       "      <th>4</th>\n",
       "      <td>0</td>\n",
       "      <td>7</td>\n",
       "      <td>11</td>\n",
       "      <td>2</td>\n",
       "      <td>55</td>\n",
       "      <td>3</td>\n",
       "    </tr>\n",
       "  </tbody>\n",
       "</table>\n",
       "</div>"
      ],
      "text/plain": [
       "   isNativeEnglishSpeaker  course_instructor  course  summer_regular  \\\n",
       "0                       1                 23       3               1   \n",
       "1                       0                 15       3               1   \n",
       "2                       1                 23       3               2   \n",
       "3                       1                  5       2               2   \n",
       "4                       0                  7      11               2   \n",
       "\n",
       "   class_size  performance  \n",
       "0          19            3  \n",
       "1          17            3  \n",
       "2          49            3  \n",
       "3          33            3  \n",
       "4          55            3  "
      ]
     },
     "execution_count": 16,
     "metadata": {},
     "output_type": "execute_result"
    }
   ],
   "source": [
    "df.head()"
   ]
  },
  {
   "cell_type": "code",
   "execution_count": 17,
   "id": "f6d3b0fb-a0f0-4d53-a39b-b3f79b8606e9",
   "metadata": {},
   "outputs": [],
   "source": [
    "df['performance'] = df['performance'].replace({1:0, 2:1, 3:2})"
   ]
  },
  {
   "cell_type": "code",
   "execution_count": 18,
   "id": "50f3686a-97e9-473c-b393-ee14c3776875",
   "metadata": {},
   "outputs": [
    {
     "data": {
      "text/html": [
       "<div>\n",
       "<style scoped>\n",
       "    .dataframe tbody tr th:only-of-type {\n",
       "        vertical-align: middle;\n",
       "    }\n",
       "\n",
       "    .dataframe tbody tr th {\n",
       "        vertical-align: top;\n",
       "    }\n",
       "\n",
       "    .dataframe thead th {\n",
       "        text-align: right;\n",
       "    }\n",
       "</style>\n",
       "<table border=\"1\" class=\"dataframe\">\n",
       "  <thead>\n",
       "    <tr style=\"text-align: right;\">\n",
       "      <th></th>\n",
       "      <th>isNativeEnglishSpeaker</th>\n",
       "      <th>course_instructor</th>\n",
       "      <th>course</th>\n",
       "      <th>summer_regular</th>\n",
       "      <th>class_size</th>\n",
       "      <th>performance</th>\n",
       "    </tr>\n",
       "  </thead>\n",
       "  <tbody>\n",
       "    <tr>\n",
       "      <th>0</th>\n",
       "      <td>1</td>\n",
       "      <td>23</td>\n",
       "      <td>3</td>\n",
       "      <td>1</td>\n",
       "      <td>19</td>\n",
       "      <td>2</td>\n",
       "    </tr>\n",
       "    <tr>\n",
       "      <th>1</th>\n",
       "      <td>0</td>\n",
       "      <td>15</td>\n",
       "      <td>3</td>\n",
       "      <td>1</td>\n",
       "      <td>17</td>\n",
       "      <td>2</td>\n",
       "    </tr>\n",
       "    <tr>\n",
       "      <th>2</th>\n",
       "      <td>1</td>\n",
       "      <td>23</td>\n",
       "      <td>3</td>\n",
       "      <td>2</td>\n",
       "      <td>49</td>\n",
       "      <td>2</td>\n",
       "    </tr>\n",
       "    <tr>\n",
       "      <th>3</th>\n",
       "      <td>1</td>\n",
       "      <td>5</td>\n",
       "      <td>2</td>\n",
       "      <td>2</td>\n",
       "      <td>33</td>\n",
       "      <td>2</td>\n",
       "    </tr>\n",
       "    <tr>\n",
       "      <th>4</th>\n",
       "      <td>0</td>\n",
       "      <td>7</td>\n",
       "      <td>11</td>\n",
       "      <td>2</td>\n",
       "      <td>55</td>\n",
       "      <td>2</td>\n",
       "    </tr>\n",
       "  </tbody>\n",
       "</table>\n",
       "</div>"
      ],
      "text/plain": [
       "   isNativeEnglishSpeaker  course_instructor  course  summer_regular  \\\n",
       "0                       1                 23       3               1   \n",
       "1                       0                 15       3               1   \n",
       "2                       1                 23       3               2   \n",
       "3                       1                  5       2               2   \n",
       "4                       0                  7      11               2   \n",
       "\n",
       "   class_size  performance  \n",
       "0          19            2  \n",
       "1          17            2  \n",
       "2          49            2  \n",
       "3          33            2  \n",
       "4          55            2  "
      ]
     },
     "execution_count": 18,
     "metadata": {},
     "output_type": "execute_result"
    }
   ],
   "source": [
    "df.head()"
   ]
  },
  {
   "cell_type": "code",
   "execution_count": 19,
   "id": "e7483d06-115e-48ed-b468-07bc8b8b6e20",
   "metadata": {},
   "outputs": [
    {
     "data": {
      "text/html": [
       "<div>\n",
       "<style scoped>\n",
       "    .dataframe tbody tr th:only-of-type {\n",
       "        vertical-align: middle;\n",
       "    }\n",
       "\n",
       "    .dataframe tbody tr th {\n",
       "        vertical-align: top;\n",
       "    }\n",
       "\n",
       "    .dataframe thead th {\n",
       "        text-align: right;\n",
       "    }\n",
       "</style>\n",
       "<table border=\"1\" class=\"dataframe\">\n",
       "  <thead>\n",
       "    <tr style=\"text-align: right;\">\n",
       "      <th></th>\n",
       "      <th>isNativeEnglishSpeaker</th>\n",
       "      <th>course_instructor</th>\n",
       "      <th>course</th>\n",
       "      <th>summer_regular</th>\n",
       "      <th>class_size</th>\n",
       "      <th>performance</th>\n",
       "    </tr>\n",
       "  </thead>\n",
       "  <tbody>\n",
       "    <tr>\n",
       "      <th>count</th>\n",
       "      <td>151.000000</td>\n",
       "      <td>151.000000</td>\n",
       "      <td>151.000000</td>\n",
       "      <td>151.000000</td>\n",
       "      <td>151.000000</td>\n",
       "      <td>151.000000</td>\n",
       "    </tr>\n",
       "    <tr>\n",
       "      <th>mean</th>\n",
       "      <td>0.192053</td>\n",
       "      <td>13.642384</td>\n",
       "      <td>8.105960</td>\n",
       "      <td>1.847682</td>\n",
       "      <td>27.867550</td>\n",
       "      <td>1.019868</td>\n",
       "    </tr>\n",
       "    <tr>\n",
       "      <th>std</th>\n",
       "      <td>0.395225</td>\n",
       "      <td>6.825779</td>\n",
       "      <td>7.023914</td>\n",
       "      <td>0.360525</td>\n",
       "      <td>12.893758</td>\n",
       "      <td>0.820327</td>\n",
       "    </tr>\n",
       "    <tr>\n",
       "      <th>min</th>\n",
       "      <td>0.000000</td>\n",
       "      <td>1.000000</td>\n",
       "      <td>1.000000</td>\n",
       "      <td>1.000000</td>\n",
       "      <td>3.000000</td>\n",
       "      <td>0.000000</td>\n",
       "    </tr>\n",
       "    <tr>\n",
       "      <th>25%</th>\n",
       "      <td>0.000000</td>\n",
       "      <td>8.000000</td>\n",
       "      <td>3.000000</td>\n",
       "      <td>2.000000</td>\n",
       "      <td>19.000000</td>\n",
       "      <td>0.000000</td>\n",
       "    </tr>\n",
       "    <tr>\n",
       "      <th>50%</th>\n",
       "      <td>0.000000</td>\n",
       "      <td>13.000000</td>\n",
       "      <td>4.000000</td>\n",
       "      <td>2.000000</td>\n",
       "      <td>27.000000</td>\n",
       "      <td>1.000000</td>\n",
       "    </tr>\n",
       "    <tr>\n",
       "      <th>75%</th>\n",
       "      <td>0.000000</td>\n",
       "      <td>20.000000</td>\n",
       "      <td>15.000000</td>\n",
       "      <td>2.000000</td>\n",
       "      <td>37.000000</td>\n",
       "      <td>2.000000</td>\n",
       "    </tr>\n",
       "    <tr>\n",
       "      <th>max</th>\n",
       "      <td>1.000000</td>\n",
       "      <td>25.000000</td>\n",
       "      <td>26.000000</td>\n",
       "      <td>2.000000</td>\n",
       "      <td>66.000000</td>\n",
       "      <td>2.000000</td>\n",
       "    </tr>\n",
       "  </tbody>\n",
       "</table>\n",
       "</div>"
      ],
      "text/plain": [
       "       isNativeEnglishSpeaker  course_instructor      course  summer_regular  \\\n",
       "count              151.000000         151.000000  151.000000      151.000000   \n",
       "mean                 0.192053          13.642384    8.105960        1.847682   \n",
       "std                  0.395225           6.825779    7.023914        0.360525   \n",
       "min                  0.000000           1.000000    1.000000        1.000000   \n",
       "25%                  0.000000           8.000000    3.000000        2.000000   \n",
       "50%                  0.000000          13.000000    4.000000        2.000000   \n",
       "75%                  0.000000          20.000000   15.000000        2.000000   \n",
       "max                  1.000000          25.000000   26.000000        2.000000   \n",
       "\n",
       "       class_size  performance  \n",
       "count  151.000000   151.000000  \n",
       "mean    27.867550     1.019868  \n",
       "std     12.893758     0.820327  \n",
       "min      3.000000     0.000000  \n",
       "25%     19.000000     0.000000  \n",
       "50%     27.000000     1.000000  \n",
       "75%     37.000000     2.000000  \n",
       "max     66.000000     2.000000  "
      ]
     },
     "execution_count": 19,
     "metadata": {},
     "output_type": "execute_result"
    }
   ],
   "source": [
    "df.describe()"
   ]
  },
  {
   "cell_type": "code",
   "execution_count": 20,
   "id": "eee22379-935b-458f-9efe-92252f21bdc1",
   "metadata": {},
   "outputs": [
    {
     "data": {
      "text/plain": [
       "isNativeEnglishSpeaker\n",
       "0    122\n",
       "1     29\n",
       "Name: count, dtype: int64"
      ]
     },
     "execution_count": 20,
     "metadata": {},
     "output_type": "execute_result"
    }
   ],
   "source": [
    "df['isNativeEnglishSpeaker'].value_counts()"
   ]
  },
  {
   "cell_type": "code",
   "execution_count": 21,
   "id": "e7575acb-4efd-4a83-ae54-fd8770a31a36",
   "metadata": {},
   "outputs": [
    {
     "data": {
      "text/plain": [
       "summer_regular\n",
       "2    128\n",
       "1     23\n",
       "Name: count, dtype: int64"
      ]
     },
     "execution_count": 21,
     "metadata": {},
     "output_type": "execute_result"
    }
   ],
   "source": [
    "df['summer_regular'].value_counts()"
   ]
  },
  {
   "cell_type": "code",
   "execution_count": 22,
   "id": "03b841c7-f4e8-4eb0-ad45-404322e77a19",
   "metadata": {},
   "outputs": [
    {
     "data": {
      "text/plain": [
       "performance\n",
       "2    52\n",
       "1    50\n",
       "0    49\n",
       "Name: count, dtype: int64"
      ]
     },
     "execution_count": 22,
     "metadata": {},
     "output_type": "execute_result"
    }
   ],
   "source": [
    "df['performance'].value_counts()"
   ]
  },
  {
   "cell_type": "markdown",
   "id": "49b35575-b9bd-42dd-a4e6-c6d30bf90383",
   "metadata": {},
   "source": [
    "#### Univariate Analysis "
   ]
  },
  {
   "cell_type": "code",
   "execution_count": 23,
   "id": "1d1daa59-61c7-44bc-bf58-aa20219cd689",
   "metadata": {},
   "outputs": [
    {
     "data": {
      "text/plain": [
       "<Axes: xlabel='performance', ylabel='count'>"
      ]
     },
     "execution_count": 23,
     "metadata": {},
     "output_type": "execute_result"
    },
    {
     "data": {
      "image/png": "[encoded data removed]",
      "text/plain": [
       "<Figure size 640x480 with 1 Axes>"
      ]
     },
     "metadata": {},
     "output_type": "display_data"
    }
   ],
   "source": [
    "sns.countplot(df, x='performance')"
   ]
  },
  {
   "cell_type": "code",
   "execution_count": 24,
   "id": "a42dca5d-84a9-4717-b9ed-3822bbefecaa",
   "metadata": {},
   "outputs": [
    {
     "data": {
      "text/plain": [
       "<Axes: xlabel='summer_regular', ylabel='count'>"
      ]
     },
     "execution_count": 24,
     "metadata": {},
     "output_type": "execute_result"
    },
    {
     "data": {
      "image/png": "[encoded data removed]",
      "text/plain": [
       "<Figure size 640x480 with 1 Axes>"
      ]
     },
     "metadata": {},
     "output_type": "display_data"
    }
   ],
   "source": [
    "sns.countplot(df, x='summer_regular')"
   ]
  },
  {
   "cell_type": "code",
   "execution_count": 25,
   "id": "8e509b70-5040-4fb7-8762-74493ddc7cc3",
   "metadata": {},
   "outputs": [
    {
     "data": {
      "text/plain": [
       "<Axes: xlabel='isNativeEnglishSpeaker', ylabel='count'>"
      ]
     },
     "execution_count": 25,
     "metadata": {},
     "output_type": "execute_result"
    },
    {
     "data": {
      "image/png": "[encoded data removed]",
      "text/plain": [
       "<Figure size 640x480 with 1 Axes>"
      ]
     },
     "metadata": {},
     "output_type": "display_data"
    }
   ],
   "source": [
    "sns.countplot(df, x='isNativeEnglishSpeaker')"
   ]
  },
  {
   "cell_type": "code",
   "execution_count": 26,
   "id": "6e51c9f5-d8e1-4c20-a512-7d70c89394a2",
   "metadata": {},
   "outputs": [
    {
     "data": {
      "image/png": "[encoded data removed]",
      "text/plain": [
       "<Figure size 640x480 with 1 Axes>"
      ]
     },
     "metadata": {},
     "output_type": "display_data"
    }
   ],
   "source": [
    "sns.histplot(df, x='course', bins=26)\n",
    "plt.xticks(np.arange(0,27))\n",
    "plt.yticks(np.arange(0,55,5))\n",
    "plt.show()"
   ]
  },
  {
   "cell_type": "code",
   "execution_count": 27,
   "id": "5abd1d5a-3be2-4aa8-bde4-438b9f1f7fda",
   "metadata": {},
   "outputs": [
    {
     "data": {
      "text/plain": [
       "<Axes: xlabel='class_size', ylabel='Count'>"
      ]
     },
     "execution_count": 27,
     "metadata": {},
     "output_type": "execute_result"
    },
    {
     "data": {
      "image/png": "[encoded data removed]",
      "text/plain": [
       "<Figure size 640x480 with 1 Axes>"
      ]
     },
     "metadata": {},
     "output_type": "display_data"
    }
   ],
   "source": [
    "sns.histplot(df, x='class_size', bins=7)"
   ]
  },
  {
   "cell_type": "code",
   "execution_count": 28,
   "id": "8667c218-de02-4fed-8988-ece173ea9a07",
   "metadata": {},
   "outputs": [
    {
     "data": {
      "text/plain": [
       "<Axes: xlabel='course_instructor', ylabel='Count'>"
      ]
     },
     "execution_count": 28,
     "metadata": {},
     "output_type": "execute_result"
    },
    {
     "data": {
      "image/png": "[encoded data removed]",
      "text/plain": [
       "<Figure size 640x480 with 1 Axes>"
      ]
     },
     "metadata": {},
     "output_type": "display_data"
    }
   ],
   "source": [
    "sns.histplot(df,x= 'course_instructor', bins=5)"
   ]
  },
  {
   "cell_type": "markdown",
   "id": "7d5bf76a",
   "metadata": {},
   "source": [
    "## Finding the Skewness"
   ]
  },
  {
   "cell_type": "code",
   "execution_count": 29,
   "id": "edd1949f-bcb3-4020-a326-cbb0d24d7291",
   "metadata": {
    "scrolled": true
   },
   "outputs": [
    {
     "name": "stdout",
     "output_type": "stream",
     "text": [
      "Skewness of entire df\n",
      "isNativeEnglishSpeaker    1.579254\n",
      "course_instructor        -0.008313\n",
      "course                    0.870167\n",
      "summer_regular           -1.954647\n",
      "class_size                0.498306\n",
      "performance              -0.036931\n",
      "dtype: float64\n"
     ]
    }
   ],
   "source": [
    "print(f\"Skewness of entire df\\n{df.skew()}\")"
   ]
  },
  {
   "cell_type": "markdown",
   "id": "678546b5-56fe-429e-9a67-894357392241",
   "metadata": {},
   "source": [
    "#### Bi-variate analysis:"
   ]
  },
  {
   "cell_type": "code",
   "execution_count": 35,
   "id": "5ea2a3a4-ff8f-4c0b-8b70-90f9869b42f7",
   "metadata": {
    "scrolled": false
   },
   "outputs": [
    {
     "data": {
      "image/png": "[encoded data removed]",
      "text/plain": [
       "<Figure size 1000x1000 with 1 Axes>"
      ]
     },
     "metadata": {},
     "output_type": "display_data"
    }
   ],
   "source": [
    "### I want to check outlier\n",
    "plt.figure(figsize=(10,10))\n",
    "df[columns].boxplot()\n",
    "plt.xticks(rotation=45)\n",
    "plt.yticks(np.arange(0,70,2))\n",
    "plt.savefig(\"Boxplot.png\", dpi=300)\n",
    "plt.show()"
   ]
  },
  {
   "cell_type": "markdown",
   "id": "6c20805d-bd29-45a1-a9c9-bb8e667a6391",
   "metadata": {},
   "source": [
    "#### There are no outliers in the data"
   ]
  },
  {
   "cell_type": "code",
   "execution_count": 61,
   "id": "ff3f6540-3664-4fd0-8181-2a9fea990fad",
   "metadata": {},
   "outputs": [
    {
     "data": {
      "text/plain": [
       "<seaborn.axisgrid.PairGrid at 0x20cf978a250>"
      ]
     },
     "execution_count": 61,
     "metadata": {},
     "output_type": "execute_result"
    },
    {
     "data": {
      "image/png": "[encoded data removed]",
      "text/plain": [
       "<Figure size 1500x1500 with 42 Axes>"
      ]
     },
     "metadata": {},
     "output_type": "display_data"
    }
   ],
   "source": [
    "sns.pairplot(df)"
   ]
  },
  {
   "cell_type": "markdown",
   "id": "a6d22f24",
   "metadata": {},
   "source": [
    "## Finding the correlation"
   ]
  },
  {
   "cell_type": "code",
   "execution_count": 63,
   "id": "b85036e9-4c97-4ef1-9262-1e942919589f",
   "metadata": {},
   "outputs": [
    {
     "data": {
      "text/plain": [
       "<Axes: >"
      ]
     },
     "execution_count": 63,
     "metadata": {},
     "output_type": "execute_result"
    },
    {
     "data": {
      "image/png": "[encoded data removed]",
      "text/plain": [
       "<Figure size 640x480 with 2 Axes>"
      ]
     },
     "metadata": {},
     "output_type": "display_data"
    }
   ],
   "source": [
    "corr = df.corr() \n",
    "sns.heatmap(corr)"
   ]
  },
  {
   "cell_type": "code",
   "execution_count": 65,
   "id": "3fd8138c-6f22-4195-a78f-0d1d434ed6a0",
   "metadata": {},
   "outputs": [
    {
     "data": {
      "text/html": [
       "<div>\n",
       "<style scoped>\n",
       "    .dataframe tbody tr th:only-of-type {\n",
       "        vertical-align: middle;\n",
       "    }\n",
       "\n",
       "    .dataframe tbody tr th {\n",
       "        vertical-align: top;\n",
       "    }\n",
       "\n",
       "    .dataframe thead th {\n",
       "        text-align: right;\n",
       "    }\n",
       "</style>\n",
       "<table border=\"1\" class=\"dataframe\">\n",
       "  <thead>\n",
       "    <tr style=\"text-align: right;\">\n",
       "      <th></th>\n",
       "      <th>isNativeEnglishSpeaker</th>\n",
       "      <th>course_instructor</th>\n",
       "      <th>course</th>\n",
       "      <th>summer_regular</th>\n",
       "      <th>class_size</th>\n",
       "      <th>performance</th>\n",
       "    </tr>\n",
       "  </thead>\n",
       "  <tbody>\n",
       "    <tr>\n",
       "      <th>isNativeEnglishSpeaker</th>\n",
       "      <td>1.000000</td>\n",
       "      <td>0.250510</td>\n",
       "      <td>-0.134660</td>\n",
       "      <td>-0.214417</td>\n",
       "      <td>0.151547</td>\n",
       "      <td>0.255466</td>\n",
       "    </tr>\n",
       "    <tr>\n",
       "      <th>course_instructor</th>\n",
       "      <td>0.250510</td>\n",
       "      <td>1.000000</td>\n",
       "      <td>-0.236010</td>\n",
       "      <td>-0.168573</td>\n",
       "      <td>-0.035765</td>\n",
       "      <td>0.075095</td>\n",
       "    </tr>\n",
       "    <tr>\n",
       "      <th>course</th>\n",
       "      <td>-0.134660</td>\n",
       "      <td>-0.236010</td>\n",
       "      <td>1.000000</td>\n",
       "      <td>0.224927</td>\n",
       "      <td>-0.033485</td>\n",
       "      <td>0.143103</td>\n",
       "    </tr>\n",
       "    <tr>\n",
       "      <th>summer_regular</th>\n",
       "      <td>-0.214417</td>\n",
       "      <td>-0.168573</td>\n",
       "      <td>0.224927</td>\n",
       "      <td>1.000000</td>\n",
       "      <td>0.269554</td>\n",
       "      <td>-0.282742</td>\n",
       "    </tr>\n",
       "    <tr>\n",
       "      <th>class_size</th>\n",
       "      <td>0.151547</td>\n",
       "      <td>-0.035765</td>\n",
       "      <td>-0.033485</td>\n",
       "      <td>0.269554</td>\n",
       "      <td>1.000000</td>\n",
       "      <td>-0.035676</td>\n",
       "    </tr>\n",
       "    <tr>\n",
       "      <th>performance</th>\n",
       "      <td>0.255466</td>\n",
       "      <td>0.075095</td>\n",
       "      <td>0.143103</td>\n",
       "      <td>-0.282742</td>\n",
       "      <td>-0.035676</td>\n",
       "      <td>1.000000</td>\n",
       "    </tr>\n",
       "  </tbody>\n",
       "</table>\n",
       "</div>"
      ],
      "text/plain": [
       "                        isNativeEnglishSpeaker  course_instructor    course  \\\n",
       "isNativeEnglishSpeaker                1.000000           0.250510 -0.134660   \n",
       "course_instructor                     0.250510           1.000000 -0.236010   \n",
       "course                               -0.134660          -0.236010  1.000000   \n",
       "summer_regular                       -0.214417          -0.168573  0.224927   \n",
       "class_size                            0.151547          -0.035765 -0.033485   \n",
       "performance                           0.255466           0.075095  0.143103   \n",
       "\n",
       "                        summer_regular  class_size  performance  \n",
       "isNativeEnglishSpeaker       -0.214417    0.151547     0.255466  \n",
       "course_instructor            -0.168573   -0.035765     0.075095  \n",
       "course                        0.224927   -0.033485     0.143103  \n",
       "summer_regular                1.000000    0.269554    -0.282742  \n",
       "class_size                    0.269554    1.000000    -0.035676  \n",
       "performance                  -0.282742   -0.035676     1.000000  "
      ]
     },
     "execution_count": 65,
     "metadata": {},
     "output_type": "execute_result"
    }
   ],
   "source": [
    "corr"
   ]
  },
  {
   "cell_type": "markdown",
   "id": "81607901-3d71-427d-9e5d-504b41e145c4",
   "metadata": {},
   "source": [
    "#### Model training: "
   ]
  },
  {
   "cell_type": "code",
   "execution_count": 70,
   "id": "50d06c5a-de10-4aff-9478-0276af304a3a",
   "metadata": {},
   "outputs": [],
   "source": [
    "X = df.drop('performance', axis=1)\n",
    "y = df['performance']"
   ]
  },
  {
   "cell_type": "code",
   "execution_count": 72,
   "id": "6559d8fa-6fdf-4cdd-a53a-1c14e0010277",
   "metadata": {},
   "outputs": [],
   "source": [
    "from sklearn.model_selection import train_test_split\n",
    "X_train, X_test, y_train, y_test = train_test_split(X, y, test_size=0.2, random_state=42)"
   ]
  },
  {
   "cell_type": "code",
   "execution_count": 74,
   "id": "25b49579-c6ff-4817-bf94-6ed6e5ed1aa2",
   "metadata": {},
   "outputs": [],
   "source": [
    "## Scaling.\n",
    "from sklearn.preprocessing import StandardScaler\n",
    "scaler = StandardScaler()\n",
    "X_train_scaled = scaler.fit_transform(X_train)\n",
    "X_test_scaled = scaler.transform(X_test)"
   ]
  },
  {
   "cell_type": "code",
   "execution_count": 78,
   "id": "c350dfbd-34d3-486e-abd1-a51fd02effa8",
   "metadata": {},
   "outputs": [],
   "source": [
    "from sklearn.tree import DecisionTreeClassifier\n",
    "from sklearn.ensemble import RandomForestClassifier, GradientBoostingClassifier\n",
    "import xgboost as xgb\n",
    "from sklearn.metrics import classification_report, accuracy_score\n",
    "\n",
    "classifiers = {\n",
    "    'Decision Tree': DecisionTreeClassifier(),\n",
    "    'Random Forest': RandomForestClassifier(),\n",
    "    'Gradient Boosting': GradientBoostingClassifier(),\n",
    "    'XGBoost': xgb.XGBClassifier(),\n",
    "}\n",
    "\n",
    "results = {}\n",
    "for name, clf in classifiers.items():\n",
    "    clf.fit(X_train_scaled, y_train) \n",
    "    y_pred = clf.predict(X_test_scaled)\n",
    "    accuracy = accuracy_score(y_test, y_pred)\n",
    "    report = classification_report(y_test, y_pred)\n",
    "    results[name] = {\n",
    "        'Accuracy': accuracy,\n",
    "        'Report': report\n",
    "    }"
   ]
  },
  {
   "cell_type": "code",
   "execution_count": 80,
   "id": "543d7165-efdb-4a76-a8f4-21504b68bd22",
   "metadata": {},
   "outputs": [
    {
     "name": "stdout",
     "output_type": "stream",
     "text": [
      "Decision Tree:\n",
      "Accuracy: 0.6452\n",
      "              precision    recall  f1-score   support\n",
      "\n",
      "           0       0.73      0.73      0.73        11\n",
      "           1       0.58      0.64      0.61        11\n",
      "           2       0.62      0.56      0.59         9\n",
      "\n",
      "    accuracy                           0.65        31\n",
      "   macro avg       0.65      0.64      0.64        31\n",
      "weighted avg       0.65      0.65      0.64        31\n",
      "\n",
      "\n",
      "Random Forest:\n",
      "Accuracy: 0.7097\n",
      "              precision    recall  f1-score   support\n",
      "\n",
      "           0       0.77      0.91      0.83        11\n",
      "           1       0.70      0.64      0.67        11\n",
      "           2       0.62      0.56      0.59         9\n",
      "\n",
      "    accuracy                           0.71        31\n",
      "   macro avg       0.70      0.70      0.70        31\n",
      "weighted avg       0.70      0.71      0.70        31\n",
      "\n",
      "\n",
      "Gradient Boosting:\n",
      "Accuracy: 0.7419\n",
      "              precision    recall  f1-score   support\n",
      "\n",
      "           0       0.77      0.91      0.83        11\n",
      "           1       0.78      0.64      0.70        11\n",
      "           2       0.67      0.67      0.67         9\n",
      "\n",
      "    accuracy                           0.74        31\n",
      "   macro avg       0.74      0.74      0.73        31\n",
      "weighted avg       0.74      0.74      0.74        31\n",
      "\n",
      "\n",
      "XGBoost:\n",
      "Accuracy: 0.7097\n",
      "              precision    recall  f1-score   support\n",
      "\n",
      "           0       0.64      0.82      0.72        11\n",
      "           1       0.80      0.73      0.76        11\n",
      "           2       0.71      0.56      0.63         9\n",
      "\n",
      "    accuracy                           0.71        31\n",
      "   macro avg       0.72      0.70      0.70        31\n",
      "weighted avg       0.72      0.71      0.71        31\n",
      "\n",
      "\n"
     ]
    }
   ],
   "source": [
    "for name, result in results.items():\n",
    "    print(f\"{name}:\\nAccuracy: {result['Accuracy']:.4f}\\n{result['Report']}\\n\")"
   ]
  },
  {
   "cell_type": "code",
   "execution_count": 82,
   "id": "924491c6-dc13-4a73-881a-40e1f7944de0",
   "metadata": {},
   "outputs": [
    {
     "data": {
      "text/plain": [
       "0      1\n",
       "1      1\n",
       "2      2\n",
       "3      2\n",
       "4      2\n",
       "      ..\n",
       "146    2\n",
       "147    2\n",
       "148    2\n",
       "149    2\n",
       "150    2\n",
       "Name: summer_regular, Length: 151, dtype: int64"
      ]
     },
     "execution_count": 82,
     "metadata": {},
     "output_type": "execute_result"
    }
   ],
   "source": [
    "# Let's try to do some Feature transformation. \n",
    "df['summer_regular']"
   ]
  },
  {
   "cell_type": "code",
   "execution_count": 84,
   "id": "86516a73-5cb5-4457-a1bf-560355d97ceb",
   "metadata": {},
   "outputs": [],
   "source": [
    "df['summer'] = df['summer_regular']"
   ]
  },
  {
   "cell_type": "code",
   "execution_count": 86,
   "id": "304082ed-821c-47d5-a8d5-959cf5881623",
   "metadata": {},
   "outputs": [],
   "source": [
    "df['summer_classes'] = df['summer'].replace({2:0})"
   ]
  },
  {
   "cell_type": "code",
   "execution_count": 88,
   "id": "e301389a-9dcf-4bfe-970f-d1a0565ed1d4",
   "metadata": {},
   "outputs": [
    {
     "data": {
      "text/html": [
       "<div>\n",
       "<style scoped>\n",
       "    .dataframe tbody tr th:only-of-type {\n",
       "        vertical-align: middle;\n",
       "    }\n",
       "\n",
       "    .dataframe tbody tr th {\n",
       "        vertical-align: top;\n",
       "    }\n",
       "\n",
       "    .dataframe thead th {\n",
       "        text-align: right;\n",
       "    }\n",
       "</style>\n",
       "<table border=\"1\" class=\"dataframe\">\n",
       "  <thead>\n",
       "    <tr style=\"text-align: right;\">\n",
       "      <th></th>\n",
       "      <th>isNativeEnglishSpeaker</th>\n",
       "      <th>course_instructor</th>\n",
       "      <th>course</th>\n",
       "      <th>summer_regular</th>\n",
       "      <th>class_size</th>\n",
       "      <th>performance</th>\n",
       "      <th>summer</th>\n",
       "      <th>summer_classes</th>\n",
       "    </tr>\n",
       "  </thead>\n",
       "  <tbody>\n",
       "    <tr>\n",
       "      <th>0</th>\n",
       "      <td>1</td>\n",
       "      <td>23</td>\n",
       "      <td>3</td>\n",
       "      <td>1</td>\n",
       "      <td>19</td>\n",
       "      <td>2</td>\n",
       "      <td>1</td>\n",
       "      <td>1</td>\n",
       "    </tr>\n",
       "    <tr>\n",
       "      <th>1</th>\n",
       "      <td>0</td>\n",
       "      <td>15</td>\n",
       "      <td>3</td>\n",
       "      <td>1</td>\n",
       "      <td>17</td>\n",
       "      <td>2</td>\n",
       "      <td>1</td>\n",
       "      <td>1</td>\n",
       "    </tr>\n",
       "    <tr>\n",
       "      <th>2</th>\n",
       "      <td>1</td>\n",
       "      <td>23</td>\n",
       "      <td>3</td>\n",
       "      <td>2</td>\n",
       "      <td>49</td>\n",
       "      <td>2</td>\n",
       "      <td>2</td>\n",
       "      <td>0</td>\n",
       "    </tr>\n",
       "    <tr>\n",
       "      <th>3</th>\n",
       "      <td>1</td>\n",
       "      <td>5</td>\n",
       "      <td>2</td>\n",
       "      <td>2</td>\n",
       "      <td>33</td>\n",
       "      <td>2</td>\n",
       "      <td>2</td>\n",
       "      <td>0</td>\n",
       "    </tr>\n",
       "    <tr>\n",
       "      <th>4</th>\n",
       "      <td>0</td>\n",
       "      <td>7</td>\n",
       "      <td>11</td>\n",
       "      <td>2</td>\n",
       "      <td>55</td>\n",
       "      <td>2</td>\n",
       "      <td>2</td>\n",
       "      <td>0</td>\n",
       "    </tr>\n",
       "  </tbody>\n",
       "</table>\n",
       "</div>"
      ],
      "text/plain": [
       "   isNativeEnglishSpeaker  course_instructor  course  summer_regular  \\\n",
       "0                       1                 23       3               1   \n",
       "1                       0                 15       3               1   \n",
       "2                       1                 23       3               2   \n",
       "3                       1                  5       2               2   \n",
       "4                       0                  7      11               2   \n",
       "\n",
       "   class_size  performance  summer  summer_classes  \n",
       "0          19            2       1               1  \n",
       "1          17            2       1               1  \n",
       "2          49            2       2               0  \n",
       "3          33            2       2               0  \n",
       "4          55            2       2               0  "
      ]
     },
     "execution_count": 88,
     "metadata": {},
     "output_type": "execute_result"
    }
   ],
   "source": [
    "df.head()"
   ]
  },
  {
   "cell_type": "code",
   "execution_count": 90,
   "id": "d9105085-22d2-4030-98f3-a52931805ed9",
   "metadata": {},
   "outputs": [],
   "source": [
    "df = df.drop('summer', axis=1)"
   ]
  },
  {
   "cell_type": "code",
   "execution_count": 92,
   "id": "90887d1a-c71d-4257-b011-44767deceb00",
   "metadata": {},
   "outputs": [],
   "source": [
    "df['regular_classes'] = df['summer_regular'].replace({2:1, 1:0})"
   ]
  },
  {
   "cell_type": "code",
   "execution_count": 94,
   "id": "f15f7511-582f-4d8b-a640-b790b9e890ff",
   "metadata": {},
   "outputs": [
    {
     "data": {
      "text/html": [
       "<div>\n",
       "<style scoped>\n",
       "    .dataframe tbody tr th:only-of-type {\n",
       "        vertical-align: middle;\n",
       "    }\n",
       "\n",
       "    .dataframe tbody tr th {\n",
       "        vertical-align: top;\n",
       "    }\n",
       "\n",
       "    .dataframe thead th {\n",
       "        text-align: right;\n",
       "    }\n",
       "</style>\n",
       "<table border=\"1\" class=\"dataframe\">\n",
       "  <thead>\n",
       "    <tr style=\"text-align: right;\">\n",
       "      <th></th>\n",
       "      <th>isNativeEnglishSpeaker</th>\n",
       "      <th>course_instructor</th>\n",
       "      <th>course</th>\n",
       "      <th>summer_regular</th>\n",
       "      <th>class_size</th>\n",
       "      <th>performance</th>\n",
       "      <th>summer_classes</th>\n",
       "      <th>regular_classes</th>\n",
       "    </tr>\n",
       "  </thead>\n",
       "  <tbody>\n",
       "    <tr>\n",
       "      <th>0</th>\n",
       "      <td>1</td>\n",
       "      <td>23</td>\n",
       "      <td>3</td>\n",
       "      <td>1</td>\n",
       "      <td>19</td>\n",
       "      <td>2</td>\n",
       "      <td>1</td>\n",
       "      <td>0</td>\n",
       "    </tr>\n",
       "    <tr>\n",
       "      <th>1</th>\n",
       "      <td>0</td>\n",
       "      <td>15</td>\n",
       "      <td>3</td>\n",
       "      <td>1</td>\n",
       "      <td>17</td>\n",
       "      <td>2</td>\n",
       "      <td>1</td>\n",
       "      <td>0</td>\n",
       "    </tr>\n",
       "    <tr>\n",
       "      <th>2</th>\n",
       "      <td>1</td>\n",
       "      <td>23</td>\n",
       "      <td>3</td>\n",
       "      <td>2</td>\n",
       "      <td>49</td>\n",
       "      <td>2</td>\n",
       "      <td>0</td>\n",
       "      <td>1</td>\n",
       "    </tr>\n",
       "    <tr>\n",
       "      <th>3</th>\n",
       "      <td>1</td>\n",
       "      <td>5</td>\n",
       "      <td>2</td>\n",
       "      <td>2</td>\n",
       "      <td>33</td>\n",
       "      <td>2</td>\n",
       "      <td>0</td>\n",
       "      <td>1</td>\n",
       "    </tr>\n",
       "    <tr>\n",
       "      <th>4</th>\n",
       "      <td>0</td>\n",
       "      <td>7</td>\n",
       "      <td>11</td>\n",
       "      <td>2</td>\n",
       "      <td>55</td>\n",
       "      <td>2</td>\n",
       "      <td>0</td>\n",
       "      <td>1</td>\n",
       "    </tr>\n",
       "  </tbody>\n",
       "</table>\n",
       "</div>"
      ],
      "text/plain": [
       "   isNativeEnglishSpeaker  course_instructor  course  summer_regular  \\\n",
       "0                       1                 23       3               1   \n",
       "1                       0                 15       3               1   \n",
       "2                       1                 23       3               2   \n",
       "3                       1                  5       2               2   \n",
       "4                       0                  7      11               2   \n",
       "\n",
       "   class_size  performance  summer_classes  regular_classes  \n",
       "0          19            2               1                0  \n",
       "1          17            2               1                0  \n",
       "2          49            2               0                1  \n",
       "3          33            2               0                1  \n",
       "4          55            2               0                1  "
      ]
     },
     "execution_count": 94,
     "metadata": {},
     "output_type": "execute_result"
    }
   ],
   "source": [
    "df.head()"
   ]
  },
  {
   "cell_type": "code",
   "execution_count": 96,
   "id": "45b0decd-255f-468e-8697-15e242f78c3d",
   "metadata": {},
   "outputs": [],
   "source": [
    "df = df.drop('summer_regular', axis=1)"
   ]
  },
  {
   "cell_type": "code",
   "execution_count": 98,
   "id": "682f92ee-f822-49a4-9c94-8b7e50dd0a46",
   "metadata": {},
   "outputs": [
    {
     "data": {
      "text/html": [
       "<div>\n",
       "<style scoped>\n",
       "    .dataframe tbody tr th:only-of-type {\n",
       "        vertical-align: middle;\n",
       "    }\n",
       "\n",
       "    .dataframe tbody tr th {\n",
       "        vertical-align: top;\n",
       "    }\n",
       "\n",
       "    .dataframe thead th {\n",
       "        text-align: right;\n",
       "    }\n",
       "</style>\n",
       "<table border=\"1\" class=\"dataframe\">\n",
       "  <thead>\n",
       "    <tr style=\"text-align: right;\">\n",
       "      <th></th>\n",
       "      <th>isNativeEnglishSpeaker</th>\n",
       "      <th>course_instructor</th>\n",
       "      <th>course</th>\n",
       "      <th>class_size</th>\n",
       "      <th>performance</th>\n",
       "      <th>summer_classes</th>\n",
       "      <th>regular_classes</th>\n",
       "    </tr>\n",
       "  </thead>\n",
       "  <tbody>\n",
       "    <tr>\n",
       "      <th>0</th>\n",
       "      <td>1</td>\n",
       "      <td>23</td>\n",
       "      <td>3</td>\n",
       "      <td>19</td>\n",
       "      <td>2</td>\n",
       "      <td>1</td>\n",
       "      <td>0</td>\n",
       "    </tr>\n",
       "    <tr>\n",
       "      <th>1</th>\n",
       "      <td>0</td>\n",
       "      <td>15</td>\n",
       "      <td>3</td>\n",
       "      <td>17</td>\n",
       "      <td>2</td>\n",
       "      <td>1</td>\n",
       "      <td>0</td>\n",
       "    </tr>\n",
       "    <tr>\n",
       "      <th>2</th>\n",
       "      <td>1</td>\n",
       "      <td>23</td>\n",
       "      <td>3</td>\n",
       "      <td>49</td>\n",
       "      <td>2</td>\n",
       "      <td>0</td>\n",
       "      <td>1</td>\n",
       "    </tr>\n",
       "    <tr>\n",
       "      <th>3</th>\n",
       "      <td>1</td>\n",
       "      <td>5</td>\n",
       "      <td>2</td>\n",
       "      <td>33</td>\n",
       "      <td>2</td>\n",
       "      <td>0</td>\n",
       "      <td>1</td>\n",
       "    </tr>\n",
       "    <tr>\n",
       "      <th>4</th>\n",
       "      <td>0</td>\n",
       "      <td>7</td>\n",
       "      <td>11</td>\n",
       "      <td>55</td>\n",
       "      <td>2</td>\n",
       "      <td>0</td>\n",
       "      <td>1</td>\n",
       "    </tr>\n",
       "  </tbody>\n",
       "</table>\n",
       "</div>"
      ],
      "text/plain": [
       "   isNativeEnglishSpeaker  course_instructor  course  class_size  performance  \\\n",
       "0                       1                 23       3          19            2   \n",
       "1                       0                 15       3          17            2   \n",
       "2                       1                 23       3          49            2   \n",
       "3                       1                  5       2          33            2   \n",
       "4                       0                  7      11          55            2   \n",
       "\n",
       "   summer_classes  regular_classes  \n",
       "0               1                0  \n",
       "1               1                0  \n",
       "2               0                1  \n",
       "3               0                1  \n",
       "4               0                1  "
      ]
     },
     "execution_count": 98,
     "metadata": {},
     "output_type": "execute_result"
    }
   ],
   "source": [
    "df.head()"
   ]
  },
  {
   "cell_type": "code",
   "execution_count": 100,
   "id": "a697d969-8fea-483f-a32b-940498edda85",
   "metadata": {},
   "outputs": [
    {
     "data": {
      "text/plain": [
       "<Axes: >"
      ]
     },
     "execution_count": 100,
     "metadata": {},
     "output_type": "execute_result"
    },
    {
     "data": {
      "image/png": "[encoded data removed]",
      "text/plain": [
       "<Figure size 640x480 with 2 Axes>"
      ]
     },
     "metadata": {},
     "output_type": "display_data"
    }
   ],
   "source": [
    "corr = df.corr() \n",
    "sns.heatmap(corr)"
   ]
  },
  {
   "cell_type": "code",
   "execution_count": 102,
   "id": "83ee49d3-ea77-458c-958e-487433d65017",
   "metadata": {},
   "outputs": [
    {
     "data": {
      "text/html": [
       "<div>\n",
       "<style scoped>\n",
       "    .dataframe tbody tr th:only-of-type {\n",
       "        vertical-align: middle;\n",
       "    }\n",
       "\n",
       "    .dataframe tbody tr th {\n",
       "        vertical-align: top;\n",
       "    }\n",
       "\n",
       "    .dataframe thead th {\n",
       "        text-align: right;\n",
       "    }\n",
       "</style>\n",
       "<table border=\"1\" class=\"dataframe\">\n",
       "  <thead>\n",
       "    <tr style=\"text-align: right;\">\n",
       "      <th></th>\n",
       "      <th>isNativeEnglishSpeaker</th>\n",
       "      <th>course_instructor</th>\n",
       "      <th>course</th>\n",
       "      <th>class_size</th>\n",
       "      <th>performance</th>\n",
       "      <th>summer_classes</th>\n",
       "      <th>regular_classes</th>\n",
       "    </tr>\n",
       "  </thead>\n",
       "  <tbody>\n",
       "    <tr>\n",
       "      <th>isNativeEnglishSpeaker</th>\n",
       "      <td>1.000000</td>\n",
       "      <td>0.250510</td>\n",
       "      <td>-0.134660</td>\n",
       "      <td>0.151547</td>\n",
       "      <td>0.255466</td>\n",
       "      <td>0.214417</td>\n",
       "      <td>-0.214417</td>\n",
       "    </tr>\n",
       "    <tr>\n",
       "      <th>course_instructor</th>\n",
       "      <td>0.250510</td>\n",
       "      <td>1.000000</td>\n",
       "      <td>-0.236010</td>\n",
       "      <td>-0.035765</td>\n",
       "      <td>0.075095</td>\n",
       "      <td>0.168573</td>\n",
       "      <td>-0.168573</td>\n",
       "    </tr>\n",
       "    <tr>\n",
       "      <th>course</th>\n",
       "      <td>-0.134660</td>\n",
       "      <td>-0.236010</td>\n",
       "      <td>1.000000</td>\n",
       "      <td>-0.033485</td>\n",
       "      <td>0.143103</td>\n",
       "      <td>-0.224927</td>\n",
       "      <td>0.224927</td>\n",
       "    </tr>\n",
       "    <tr>\n",
       "      <th>class_size</th>\n",
       "      <td>0.151547</td>\n",
       "      <td>-0.035765</td>\n",
       "      <td>-0.033485</td>\n",
       "      <td>1.000000</td>\n",
       "      <td>-0.035676</td>\n",
       "      <td>-0.269554</td>\n",
       "      <td>0.269554</td>\n",
       "    </tr>\n",
       "    <tr>\n",
       "      <th>performance</th>\n",
       "      <td>0.255466</td>\n",
       "      <td>0.075095</td>\n",
       "      <td>0.143103</td>\n",
       "      <td>-0.035676</td>\n",
       "      <td>1.000000</td>\n",
       "      <td>0.282742</td>\n",
       "      <td>-0.282742</td>\n",
       "    </tr>\n",
       "    <tr>\n",
       "      <th>summer_classes</th>\n",
       "      <td>0.214417</td>\n",
       "      <td>0.168573</td>\n",
       "      <td>-0.224927</td>\n",
       "      <td>-0.269554</td>\n",
       "      <td>0.282742</td>\n",
       "      <td>1.000000</td>\n",
       "      <td>-1.000000</td>\n",
       "    </tr>\n",
       "    <tr>\n",
       "      <th>regular_classes</th>\n",
       "      <td>-0.214417</td>\n",
       "      <td>-0.168573</td>\n",
       "      <td>0.224927</td>\n",
       "      <td>0.269554</td>\n",
       "      <td>-0.282742</td>\n",
       "      <td>-1.000000</td>\n",
       "      <td>1.000000</td>\n",
       "    </tr>\n",
       "  </tbody>\n",
       "</table>\n",
       "</div>"
      ],
      "text/plain": [
       "                        isNativeEnglishSpeaker  course_instructor    course  \\\n",
       "isNativeEnglishSpeaker                1.000000           0.250510 -0.134660   \n",
       "course_instructor                     0.250510           1.000000 -0.236010   \n",
       "course                               -0.134660          -0.236010  1.000000   \n",
       "class_size                            0.151547          -0.035765 -0.033485   \n",
       "performance                           0.255466           0.075095  0.143103   \n",
       "summer_classes                        0.214417           0.168573 -0.224927   \n",
       "regular_classes                      -0.214417          -0.168573  0.224927   \n",
       "\n",
       "                        class_size  performance  summer_classes  \\\n",
       "isNativeEnglishSpeaker    0.151547     0.255466        0.214417   \n",
       "course_instructor        -0.035765     0.075095        0.168573   \n",
       "course                   -0.033485     0.143103       -0.224927   \n",
       "class_size                1.000000    -0.035676       -0.269554   \n",
       "performance              -0.035676     1.000000        0.282742   \n",
       "summer_classes           -0.269554     0.282742        1.000000   \n",
       "regular_classes           0.269554    -0.282742       -1.000000   \n",
       "\n",
       "                        regular_classes  \n",
       "isNativeEnglishSpeaker        -0.214417  \n",
       "course_instructor             -0.168573  \n",
       "course                         0.224927  \n",
       "class_size                     0.269554  \n",
       "performance                   -0.282742  \n",
       "summer_classes                -1.000000  \n",
       "regular_classes                1.000000  "
      ]
     },
     "execution_count": 102,
     "metadata": {},
     "output_type": "execute_result"
    }
   ],
   "source": [
    "corr"
   ]
  },
  {
   "cell_type": "code",
   "execution_count": 114,
   "id": "d3625b35-aa8e-41ca-ad36-fc157d99f430",
   "metadata": {},
   "outputs": [
    {
     "name": "stdout",
     "output_type": "stream",
     "text": [
      "Decision Tree:\n",
      "Accuracy: 0.6452\n",
      "              precision    recall  f1-score   support\n",
      "\n",
      "           0       0.73      0.73      0.73        11\n",
      "           1       0.58      0.64      0.61        11\n",
      "           2       0.62      0.56      0.59         9\n",
      "\n",
      "    accuracy                           0.65        31\n",
      "   macro avg       0.65      0.64      0.64        31\n",
      "weighted avg       0.65      0.65      0.64        31\n",
      "\n",
      "\n",
      "Random Forest:\n",
      "Accuracy: 0.7097\n",
      "              precision    recall  f1-score   support\n",
      "\n",
      "           0       0.77      0.91      0.83        11\n",
      "           1       0.70      0.64      0.67        11\n",
      "           2       0.62      0.56      0.59         9\n",
      "\n",
      "    accuracy                           0.71        31\n",
      "   macro avg       0.70      0.70      0.70        31\n",
      "weighted avg       0.70      0.71      0.70        31\n",
      "\n",
      "\n",
      "Gradient Boosting:\n",
      "Accuracy: 0.7419\n",
      "              precision    recall  f1-score   support\n",
      "\n",
      "           0       0.77      0.91      0.83        11\n",
      "           1       0.78      0.64      0.70        11\n",
      "           2       0.67      0.67      0.67         9\n",
      "\n",
      "    accuracy                           0.74        31\n",
      "   macro avg       0.74      0.74      0.73        31\n",
      "weighted avg       0.74      0.74      0.74        31\n",
      "\n",
      "\n",
      "XGBoost:\n",
      "Accuracy: 0.7097\n",
      "              precision    recall  f1-score   support\n",
      "\n",
      "           0       0.64      0.82      0.72        11\n",
      "           1       0.80      0.73      0.76        11\n",
      "           2       0.71      0.56      0.63         9\n",
      "\n",
      "    accuracy                           0.71        31\n",
      "   macro avg       0.72      0.70      0.70        31\n",
      "weighted avg       0.72      0.71      0.71        31\n",
      "\n",
      "\n"
     ]
    }
   ],
   "source": [
    "X = df.drop('performance', axis=1)\n",
    "y = df['performance']\n",
    "\n",
    "from sklearn.model_selection import train_test_split\n",
    "X_train, X_test, y_train, y_test = train_test_split(X, y, test_size=0.2, random_state=42)\n",
    "\n",
    "## Scaling.\n",
    "from sklearn.preprocessing import StandardScaler\n",
    "scaler = StandardScaler()\n",
    "X_train_scaled = scaler.fit_transform(X_train)\n",
    "X_test_scaled = scaler.transform(X_test)\n",
    "\n",
    "### Models \n",
    "from sklearn.tree import DecisionTreeClassifier\n",
    "from sklearn.ensemble import RandomForestClassifier, GradientBoostingClassifier\n",
    "import xgboost as xgb\n",
    "\n",
    "from sklearn.metrics import classification_report, accuracy_score\n",
    "\n",
    "\n",
    "classifiers = {\n",
    "    'Decision Tree': DecisionTreeClassifier(),\n",
    "    'Random Forest': RandomForestClassifier(),\n",
    "    'Gradient Boosting': GradientBoostingClassifier(),\n",
    "    'XGBoost': xgb.XGBClassifier(),\n",
    "}\n",
    "\n",
    "results = {}\n",
    "for name, clf in classifiers.items():\n",
    "    clf.fit(X_train_scaled, y_train) \n",
    "    y_pred = clf.predict(X_test_scaled)\n",
    "    accuracy = accuracy_score(y_test, y_pred)\n",
    "    report = classification_report(y_test, y_pred)\n",
    "    results[name] = {\n",
    "        'Accuracy': accuracy,\n",
    "        'Report': report\n",
    "    }\n",
    "\n",
    "\n",
    "for name, result in results.items():\n",
    "    print(f\"{name}:\\nAccuracy: {result['Accuracy']:.4f}\\n{result['Report']}\\n\")"
   ]
  },
  {
   "cell_type": "code",
   "execution_count": 106,
   "id": "64cc0ef2-0e58-4aa2-9664-477a6b96cd50",
   "metadata": {},
   "outputs": [
    {
     "name": "stdout",
     "output_type": "stream",
     "text": [
      "Decision Tree:\n",
      "Accuracy: 0.6452\n",
      "              precision    recall  f1-score   support\n",
      "\n",
      "           0       0.64      0.82      0.72        11\n",
      "           1       0.64      0.64      0.64        11\n",
      "           2       0.67      0.44      0.53         9\n",
      "\n",
      "    accuracy                           0.65        31\n",
      "   macro avg       0.65      0.63      0.63        31\n",
      "weighted avg       0.65      0.65      0.64        31\n",
      "\n",
      "\n",
      "Random Forest:\n",
      "Accuracy: 0.6452\n",
      "              precision    recall  f1-score   support\n",
      "\n",
      "           0       0.73      0.73      0.73        11\n",
      "           1       0.64      0.64      0.64        11\n",
      "           2       0.56      0.56      0.56         9\n",
      "\n",
      "    accuracy                           0.65        31\n",
      "   macro avg       0.64      0.64      0.64        31\n",
      "weighted avg       0.65      0.65      0.65        31\n",
      "\n",
      "\n",
      "Gradient Boosting:\n",
      "Accuracy: 0.5806\n",
      "              precision    recall  f1-score   support\n",
      "\n",
      "           0       0.60      0.82      0.69        11\n",
      "           1       0.60      0.55      0.57        11\n",
      "           2       0.50      0.33      0.40         9\n",
      "\n",
      "    accuracy                           0.58        31\n",
      "   macro avg       0.57      0.57      0.55        31\n",
      "weighted avg       0.57      0.58      0.56        31\n",
      "\n",
      "\n",
      "XGBoost:\n",
      "Accuracy: 0.6452\n",
      "              precision    recall  f1-score   support\n",
      "\n",
      "           0       0.67      0.73      0.70        11\n",
      "           1       0.70      0.64      0.67        11\n",
      "           2       0.56      0.56      0.56         9\n",
      "\n",
      "    accuracy                           0.65        31\n",
      "   macro avg       0.64      0.64      0.64        31\n",
      "weighted avg       0.65      0.65      0.64        31\n",
      "\n",
      "\n"
     ]
    }
   ],
   "source": [
    "# Let's try do remove the least impactful columns \n",
    "X = df.drop(columns = ['performance', 'course_instructor'], axis=1)\n",
    "y = df['performance']\n",
    "\n",
    "from sklearn.model_selection import train_test_split\n",
    "X_train, X_test, y_train, y_test = train_test_split(X, y, test_size=0.2, random_state=42)\n",
    "\n",
    "## Scaling.\n",
    "from sklearn.preprocessing import StandardScaler\n",
    "scaler = StandardScaler()\n",
    "X_train_scaled = scaler.fit_transform(X_train)\n",
    "X_test_scaled = scaler.transform(X_test)\n",
    "\n",
    "### Models \n",
    "from sklearn.tree import DecisionTreeClassifier\n",
    "from sklearn.ensemble import RandomForestClassifier, GradientBoostingClassifier\n",
    "import xgboost as xgb\n",
    "\n",
    "from sklearn.metrics import classification_report, accuracy_score\n",
    "\n",
    "\n",
    "classifiers = {\n",
    "    'Decision Tree': DecisionTreeClassifier(),\n",
    "    'Random Forest': RandomForestClassifier(),\n",
    "    'Gradient Boosting': GradientBoostingClassifier(),\n",
    "    'XGBoost': xgb.XGBClassifier(),\n",
    "}\n",
    "\n",
    "results = {}\n",
    "for name, clf in classifiers.items():\n",
    "    clf.fit(X_train_scaled, y_train) \n",
    "    y_pred = clf.predict(X_test_scaled)\n",
    "    accuracy = accuracy_score(y_test, y_pred)\n",
    "    report = classification_report(y_test, y_pred)\n",
    "    results[name] = {\n",
    "        'Accuracy': accuracy,\n",
    "        'Report': report\n",
    "    }\n",
    "\n",
    "for name, result in results.items():\n",
    "    print(f\"{name}:\\nAccuracy: {result['Accuracy']:.4f}\\n{result['Report']}\\n\")"
   ]
  },
  {
   "cell_type": "markdown",
   "id": "6cba3d7c-c3aa-4794-9241-24089a9af251",
   "metadata": {},
   "source": [
    "### Hyperparameter tuning for Gradient boosting "
   ]
  },
  {
   "cell_type": "code",
   "execution_count": 112,
   "id": "cf476149-7ba7-4702-beba-fc29996ec7fd",
   "metadata": {},
   "outputs": [
    {
     "name": "stdout",
     "output_type": "stream",
     "text": [
      "Fitting 5 folds for each of 486 candidates, totalling 2430 fits\n",
      "Best Parameters: {'learning_rate': 0.2, 'max_depth': 4, 'min_samples_leaf': 4, 'min_samples_split': 2, 'n_estimators': 200, 'subsample': 0.8}\n",
      "Best Cross-Validation Score: 0.6166666666666666\n",
      "test set accuracy: 29.03%\n"
     ]
    }
   ],
   "source": [
    "from sklearn.model_selection import GridSearchCV\n",
    "param_grid = {\n",
    "    'n_estimators': [100, 200, 300],\n",
    "    'learning_rate': [0.01, 0.1, 0.2],\n",
    "    'max_depth': [3, 4, 5],\n",
    "    'min_samples_split': [2, 5, 10],\n",
    "    'min_samples_leaf': [1, 2, 4],\n",
    "    'subsample': [0.8, 1.0]\n",
    "}\n",
    "gbc = GradientBoostingClassifier(random_state=42)\n",
    "grid_search = GridSearchCV(estimator=gbc, param_grid=param_grid, \n",
    "                           scoring='accuracy', cv=5, n_jobs=-1, verbose=2)\n",
    "grid_search.fit(X_train_scaled, y_train)\n",
    "print(\"Best Parameters:\", grid_search.best_params_)\n",
    "print(\"Best Cross-Validation Score:\", grid_search.best_score_)\n",
    "best_gbc = grid_search.best_estimator_\n",
    "y_pred = best_gbc.predict(X_test)\n",
    "accuracy = accuracy_score(y_test, y_pred)\n",
    "print(f'test set accuracy: {accuracy * 100:.2f}%')"
   ]
  },
  {
   "cell_type": "markdown",
   "id": "74c4d396",
   "metadata": {},
   "source": [
    "### Conclusion: \n",
    "#### The best fitting model for this data set is Gradient bossting Classifier. After the implementation of the hyperparameter tuning the accuracy score is dropping and hence we are proceeding with the Gradient Boosting classifier before the hyperparameter."
   ]
  },
  {
   "cell_type": "code",
   "execution_count": null,
   "id": "be0485c1",
   "metadata": {},
   "outputs": [],
   "source": []
  }
 ],
 "metadata": {
  "kernelspec": {
   "display_name": "Python 3 (ipykernel)",
   "language": "python",
   "name": "python3"
  },
  "language_info": {
   "codemirror_mode": {
    "name": "ipython",
    "version": 3
   },
   "file_extension": ".py",
   "mimetype": "text/x-python",
   "name": "python",
   "nbconvert_exporter": "python",
   "pygments_lexer": "ipython3",
   "version": "3.11.5"
  }
 },
 "nbformat": 4,
 "nbformat_minor": 5
}
